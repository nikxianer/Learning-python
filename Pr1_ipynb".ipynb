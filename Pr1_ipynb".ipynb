{
  "nbformat": 4,
  "nbformat_minor": 0,
  "metadata": {
    "colab": {
      "provenance": [],
      "include_colab_link": true
    },
    "kernelspec": {
      "name": "python3",
      "display_name": "Python 3"
    }
  },
  "cells": [
    {
      "cell_type": "markdown",
      "metadata": {
        "id": "view-in-github",
        "colab_type": "text"
      },
      "source": [
        "<a href=\"https://colab.research.google.com/github/nikxianer/Learning-python/blob/main/Pr1_ipynb%22.ipynb\" target=\"_parent\"><img src=\"https://colab.research.google.com/assets/colab-badge.svg\" alt=\"Open In Colab\"/></a>"
      ]
    },
    {
      "cell_type": "markdown",
      "metadata": {
        "id": "lUm8wC3-jj0a"
      },
      "source": [
        "# Let's go!\n",
        "\n",
        "I will work with data about [Pokemons](\"https://www.kaggle.com/datasets/abcsds/pokemon\"). \n",
        "\n",
        "In this file:\n",
        "- Installation from Kaggle\n",
        "- Simple operation\n",
        "- Simple visualization\n",
        "- Statistics (correlation plot, chi-square, t-test)"
      ]
    },
    {
      "cell_type": "markdown",
      "source": [
        "# Installation"
      ],
      "metadata": {
        "id": "39zBJKYw1Oqp"
      }
    },
    {
      "cell_type": "markdown",
      "source": [
        "First of all, let's connect to Kaggle to download dataset."
      ],
      "metadata": {
        "id": "efBWDMhY9s8v"
      }
    },
    {
      "cell_type": "code",
      "source": [
        "pip install opendatasets"
      ],
      "metadata": {
        "colab": {
          "base_uri": "https://localhost:8080/"
        },
        "id": "TDm9lVPOHb37",
        "outputId": "05840770-97c0-45d1-f14d-2013db556593"
      },
      "execution_count": 1,
      "outputs": [
        {
          "output_type": "stream",
          "name": "stdout",
          "text": [
            "Looking in indexes: https://pypi.org/simple, https://us-python.pkg.dev/colab-wheels/public/simple/\n",
            "Collecting opendatasets\n",
            "  Downloading opendatasets-0.1.22-py3-none-any.whl (15 kB)\n",
            "Requirement already satisfied: kaggle in /usr/local/lib/python3.8/dist-packages (from opendatasets) (1.5.12)\n",
            "Requirement already satisfied: click in /usr/local/lib/python3.8/dist-packages (from opendatasets) (7.1.2)\n",
            "Requirement already satisfied: tqdm in /usr/local/lib/python3.8/dist-packages (from opendatasets) (4.64.1)\n",
            "Requirement already satisfied: six>=1.10 in /usr/local/lib/python3.8/dist-packages (from kaggle->opendatasets) (1.15.0)\n",
            "Requirement already satisfied: urllib3 in /usr/local/lib/python3.8/dist-packages (from kaggle->opendatasets) (1.24.3)\n",
            "Requirement already satisfied: python-slugify in /usr/local/lib/python3.8/dist-packages (from kaggle->opendatasets) (8.0.0)\n",
            "Requirement already satisfied: certifi in /usr/local/lib/python3.8/dist-packages (from kaggle->opendatasets) (2022.12.7)\n",
            "Requirement already satisfied: python-dateutil in /usr/local/lib/python3.8/dist-packages (from kaggle->opendatasets) (2.8.2)\n",
            "Requirement already satisfied: requests in /usr/local/lib/python3.8/dist-packages (from kaggle->opendatasets) (2.25.1)\n",
            "Requirement already satisfied: text-unidecode>=1.3 in /usr/local/lib/python3.8/dist-packages (from python-slugify->kaggle->opendatasets) (1.3)\n",
            "Requirement already satisfied: idna<3,>=2.5 in /usr/local/lib/python3.8/dist-packages (from requests->kaggle->opendatasets) (2.10)\n",
            "Requirement already satisfied: chardet<5,>=3.0.2 in /usr/local/lib/python3.8/dist-packages (from requests->kaggle->opendatasets) (4.0.0)\n",
            "Installing collected packages: opendatasets\n",
            "Successfully installed opendatasets-0.1.22\n"
          ]
        }
      ]
    },
    {
      "cell_type": "code",
      "source": [
        "import pandas as pd\n",
        "import numpy as np\n",
        "import seaborn as sns\n",
        "import matplotlib.pyplot as plt\n",
        "from scipy import stats as stats\n",
        "import opendatasets as od"
      ],
      "metadata": {
        "id": "9OP0V3MaJnVD"
      },
      "execution_count": 2,
      "outputs": []
    },
    {
      "cell_type": "code",
      "metadata": {
        "id": "NXVswX6Rjjh8",
        "colab": {
          "base_uri": "https://localhost:8080/"
        },
        "outputId": "e08cc03b-22a1-4839-d5ca-698f48eb2bd7"
      },
      "source": [
        "od.download(\n",
        "    \"https://www.kaggle.com/datasets/abcsds/pokemon\")"
      ],
      "execution_count": 3,
      "outputs": [
        {
          "output_type": "stream",
          "name": "stdout",
          "text": [
            "Please provide your Kaggle credentials to download this dataset. Learn more: http://bit.ly/kaggle-creds\n",
            "Your Kaggle username: nikxianercom\n",
            "Your Kaggle Key: ··········\n",
            "Downloading pokemon.zip to ./pokemon\n"
          ]
        },
        {
          "output_type": "stream",
          "name": "stderr",
          "text": [
            "100%|██████████| 14.9k/14.9k [00:00<00:00, 7.18MB/s]"
          ]
        },
        {
          "output_type": "stream",
          "name": "stdout",
          "text": [
            "\n"
          ]
        },
        {
          "output_type": "stream",
          "name": "stderr",
          "text": [
            "\n"
          ]
        }
      ]
    },
    {
      "cell_type": "code",
      "source": [
        "# reading the CSV file\n",
        "df = pd.read_csv(\"/content/pokemon/Pokemon.csv\")"
      ],
      "metadata": {
        "id": "GPvZrpufJvP7"
      },
      "execution_count": 82,
      "outputs": []
    },
    {
      "cell_type": "code",
      "metadata": {
        "id": "0-dGDHV-j8oe",
        "colab": {
          "base_uri": "https://localhost:8080/",
          "height": 213
        },
        "outputId": "849f3680-7c3c-4e04-9357-761313272539"
      },
      "source": [
        "df.head()"
      ],
      "execution_count": 5,
      "outputs": [
        {
          "output_type": "execute_result",
          "data": {
            "text/plain": [
              "   #                   Name Type 1  Type 2  Total  HP  Attack  Defense  \\\n",
              "0  1              Bulbasaur  Grass  Poison    318  45      49       49   \n",
              "1  2                Ivysaur  Grass  Poison    405  60      62       63   \n",
              "2  3               Venusaur  Grass  Poison    525  80      82       83   \n",
              "3  3  VenusaurMega Venusaur  Grass  Poison    625  80     100      123   \n",
              "4  4             Charmander   Fire     NaN    309  39      52       43   \n",
              "\n",
              "   Sp. Atk  Sp. Def  Speed  Generation  Legendary  \n",
              "0       65       65     45           1      False  \n",
              "1       80       80     60           1      False  \n",
              "2      100      100     80           1      False  \n",
              "3      122      120     80           1      False  \n",
              "4       60       50     65           1      False  "
            ],
            "text/html": [
              "\n",
              "  <div id=\"df-d4f00dea-3633-411e-aadd-5e8b6ac2793e\">\n",
              "    <div class=\"colab-df-container\">\n",
              "      <div>\n",
              "<style scoped>\n",
              "    .dataframe tbody tr th:only-of-type {\n",
              "        vertical-align: middle;\n",
              "    }\n",
              "\n",
              "    .dataframe tbody tr th {\n",
              "        vertical-align: top;\n",
              "    }\n",
              "\n",
              "    .dataframe thead th {\n",
              "        text-align: right;\n",
              "    }\n",
              "</style>\n",
              "<table border=\"1\" class=\"dataframe\">\n",
              "  <thead>\n",
              "    <tr style=\"text-align: right;\">\n",
              "      <th></th>\n",
              "      <th>#</th>\n",
              "      <th>Name</th>\n",
              "      <th>Type 1</th>\n",
              "      <th>Type 2</th>\n",
              "      <th>Total</th>\n",
              "      <th>HP</th>\n",
              "      <th>Attack</th>\n",
              "      <th>Defense</th>\n",
              "      <th>Sp. Atk</th>\n",
              "      <th>Sp. Def</th>\n",
              "      <th>Speed</th>\n",
              "      <th>Generation</th>\n",
              "      <th>Legendary</th>\n",
              "    </tr>\n",
              "  </thead>\n",
              "  <tbody>\n",
              "    <tr>\n",
              "      <th>0</th>\n",
              "      <td>1</td>\n",
              "      <td>Bulbasaur</td>\n",
              "      <td>Grass</td>\n",
              "      <td>Poison</td>\n",
              "      <td>318</td>\n",
              "      <td>45</td>\n",
              "      <td>49</td>\n",
              "      <td>49</td>\n",
              "      <td>65</td>\n",
              "      <td>65</td>\n",
              "      <td>45</td>\n",
              "      <td>1</td>\n",
              "      <td>False</td>\n",
              "    </tr>\n",
              "    <tr>\n",
              "      <th>1</th>\n",
              "      <td>2</td>\n",
              "      <td>Ivysaur</td>\n",
              "      <td>Grass</td>\n",
              "      <td>Poison</td>\n",
              "      <td>405</td>\n",
              "      <td>60</td>\n",
              "      <td>62</td>\n",
              "      <td>63</td>\n",
              "      <td>80</td>\n",
              "      <td>80</td>\n",
              "      <td>60</td>\n",
              "      <td>1</td>\n",
              "      <td>False</td>\n",
              "    </tr>\n",
              "    <tr>\n",
              "      <th>2</th>\n",
              "      <td>3</td>\n",
              "      <td>Venusaur</td>\n",
              "      <td>Grass</td>\n",
              "      <td>Poison</td>\n",
              "      <td>525</td>\n",
              "      <td>80</td>\n",
              "      <td>82</td>\n",
              "      <td>83</td>\n",
              "      <td>100</td>\n",
              "      <td>100</td>\n",
              "      <td>80</td>\n",
              "      <td>1</td>\n",
              "      <td>False</td>\n",
              "    </tr>\n",
              "    <tr>\n",
              "      <th>3</th>\n",
              "      <td>3</td>\n",
              "      <td>VenusaurMega Venusaur</td>\n",
              "      <td>Grass</td>\n",
              "      <td>Poison</td>\n",
              "      <td>625</td>\n",
              "      <td>80</td>\n",
              "      <td>100</td>\n",
              "      <td>123</td>\n",
              "      <td>122</td>\n",
              "      <td>120</td>\n",
              "      <td>80</td>\n",
              "      <td>1</td>\n",
              "      <td>False</td>\n",
              "    </tr>\n",
              "    <tr>\n",
              "      <th>4</th>\n",
              "      <td>4</td>\n",
              "      <td>Charmander</td>\n",
              "      <td>Fire</td>\n",
              "      <td>NaN</td>\n",
              "      <td>309</td>\n",
              "      <td>39</td>\n",
              "      <td>52</td>\n",
              "      <td>43</td>\n",
              "      <td>60</td>\n",
              "      <td>50</td>\n",
              "      <td>65</td>\n",
              "      <td>1</td>\n",
              "      <td>False</td>\n",
              "    </tr>\n",
              "  </tbody>\n",
              "</table>\n",
              "</div>\n",
              "      <button class=\"colab-df-convert\" onclick=\"convertToInteractive('df-d4f00dea-3633-411e-aadd-5e8b6ac2793e')\"\n",
              "              title=\"Convert this dataframe to an interactive table.\"\n",
              "              style=\"display:none;\">\n",
              "        \n",
              "  <svg xmlns=\"http://www.w3.org/2000/svg\" height=\"24px\"viewBox=\"0 0 24 24\"\n",
              "       width=\"24px\">\n",
              "    <path d=\"M0 0h24v24H0V0z\" fill=\"none\"/>\n",
              "    <path d=\"M18.56 5.44l.94 2.06.94-2.06 2.06-.94-2.06-.94-.94-2.06-.94 2.06-2.06.94zm-11 1L8.5 8.5l.94-2.06 2.06-.94-2.06-.94L8.5 2.5l-.94 2.06-2.06.94zm10 10l.94 2.06.94-2.06 2.06-.94-2.06-.94-.94-2.06-.94 2.06-2.06.94z\"/><path d=\"M17.41 7.96l-1.37-1.37c-.4-.4-.92-.59-1.43-.59-.52 0-1.04.2-1.43.59L10.3 9.45l-7.72 7.72c-.78.78-.78 2.05 0 2.83L4 21.41c.39.39.9.59 1.41.59.51 0 1.02-.2 1.41-.59l7.78-7.78 2.81-2.81c.8-.78.8-2.07 0-2.86zM5.41 20L4 18.59l7.72-7.72 1.47 1.35L5.41 20z\"/>\n",
              "  </svg>\n",
              "      </button>\n",
              "      \n",
              "  <style>\n",
              "    .colab-df-container {\n",
              "      display:flex;\n",
              "      flex-wrap:wrap;\n",
              "      gap: 12px;\n",
              "    }\n",
              "\n",
              "    .colab-df-convert {\n",
              "      background-color: #E8F0FE;\n",
              "      border: none;\n",
              "      border-radius: 50%;\n",
              "      cursor: pointer;\n",
              "      display: none;\n",
              "      fill: #1967D2;\n",
              "      height: 32px;\n",
              "      padding: 0 0 0 0;\n",
              "      width: 32px;\n",
              "    }\n",
              "\n",
              "    .colab-df-convert:hover {\n",
              "      background-color: #E2EBFA;\n",
              "      box-shadow: 0px 1px 2px rgba(60, 64, 67, 0.3), 0px 1px 3px 1px rgba(60, 64, 67, 0.15);\n",
              "      fill: #174EA6;\n",
              "    }\n",
              "\n",
              "    [theme=dark] .colab-df-convert {\n",
              "      background-color: #3B4455;\n",
              "      fill: #D2E3FC;\n",
              "    }\n",
              "\n",
              "    [theme=dark] .colab-df-convert:hover {\n",
              "      background-color: #434B5C;\n",
              "      box-shadow: 0px 1px 3px 1px rgba(0, 0, 0, 0.15);\n",
              "      filter: drop-shadow(0px 1px 2px rgba(0, 0, 0, 0.3));\n",
              "      fill: #FFFFFF;\n",
              "    }\n",
              "  </style>\n",
              "\n",
              "      <script>\n",
              "        const buttonEl =\n",
              "          document.querySelector('#df-d4f00dea-3633-411e-aadd-5e8b6ac2793e button.colab-df-convert');\n",
              "        buttonEl.style.display =\n",
              "          google.colab.kernel.accessAllowed ? 'block' : 'none';\n",
              "\n",
              "        async function convertToInteractive(key) {\n",
              "          const element = document.querySelector('#df-d4f00dea-3633-411e-aadd-5e8b6ac2793e');\n",
              "          const dataTable =\n",
              "            await google.colab.kernel.invokeFunction('convertToInteractive',\n",
              "                                                     [key], {});\n",
              "          if (!dataTable) return;\n",
              "\n",
              "          const docLinkHtml = 'Like what you see? Visit the ' +\n",
              "            '<a target=\"_blank\" href=https://colab.research.google.com/notebooks/data_table.ipynb>data table notebook</a>'\n",
              "            + ' to learn more about interactive tables.';\n",
              "          element.innerHTML = '';\n",
              "          dataTable['output_type'] = 'display_data';\n",
              "          await google.colab.output.renderOutput(dataTable, element);\n",
              "          const docLink = document.createElement('div');\n",
              "          docLink.innerHTML = docLinkHtml;\n",
              "          element.appendChild(docLink);\n",
              "        }\n",
              "      </script>\n",
              "    </div>\n",
              "  </div>\n",
              "  "
            ]
          },
          "metadata": {},
          "execution_count": 5
        }
      ]
    },
    {
      "cell_type": "code",
      "source": [
        "print(f'Well, well, well, what\\'s going on? {df.shape[0]} strings and {df.shape[1]} columns in a dataset') #*"
      ],
      "metadata": {
        "colab": {
          "base_uri": "https://localhost:8080/"
        },
        "id": "3fCTG0UeJefL",
        "outputId": "c97da051-160e-4f54-dca0-d5bb0b49358a"
      },
      "execution_count": 6,
      "outputs": [
        {
          "output_type": "stream",
          "name": "stdout",
          "text": [
            "Well, well, well, what's going on? 800 strings and 13 columns in a dataset\n"
          ]
        }
      ]
    },
    {
      "cell_type": "markdown",
      "metadata": {
        "id": "Vmkh_ltjJ5AZ"
      },
      "source": [
        "*`f` is formatted string literals ([more](https://docs.python.org/3.6/reference/lexical_analysis.html#formatted-string-literals))"
      ]
    },
    {
      "cell_type": "markdown",
      "metadata": {
        "id": "RRYnrP8mYa0a"
      },
      "source": [
        "Let's take a look into format of a data"
      ]
    },
    {
      "cell_type": "code",
      "metadata": {
        "id": "XWV3s0JxjE06",
        "colab": {
          "base_uri": "https://localhost:8080/"
        },
        "outputId": "adaf3b6f-d02b-4b8c-9bb0-6139a1481775"
      },
      "source": [
        "df.info()"
      ],
      "execution_count": 7,
      "outputs": [
        {
          "output_type": "stream",
          "name": "stdout",
          "text": [
            "<class 'pandas.core.frame.DataFrame'>\n",
            "RangeIndex: 800 entries, 0 to 799\n",
            "Data columns (total 13 columns):\n",
            " #   Column      Non-Null Count  Dtype \n",
            "---  ------      --------------  ----- \n",
            " 0   #           800 non-null    int64 \n",
            " 1   Name        800 non-null    object\n",
            " 2   Type 1      800 non-null    object\n",
            " 3   Type 2      414 non-null    object\n",
            " 4   Total       800 non-null    int64 \n",
            " 5   HP          800 non-null    int64 \n",
            " 6   Attack      800 non-null    int64 \n",
            " 7   Defense     800 non-null    int64 \n",
            " 8   Sp. Atk     800 non-null    int64 \n",
            " 9   Sp. Def     800 non-null    int64 \n",
            " 10  Speed       800 non-null    int64 \n",
            " 11  Generation  800 non-null    int64 \n",
            " 12  Legendary   800 non-null    bool  \n",
            "dtypes: bool(1), int64(9), object(3)\n",
            "memory usage: 75.9+ KB\n"
          ]
        }
      ]
    },
    {
      "cell_type": "markdown",
      "source": [
        "# Simple operations "
      ],
      "metadata": {
        "id": "yYIJ9l2Q1asX"
      }
    },
    {
      "cell_type": "markdown",
      "source": [
        "Select one column"
      ],
      "metadata": {
        "id": "YRv8uZAw0wYF"
      }
    },
    {
      "cell_type": "code",
      "source": [
        "# Select the column \n",
        "defense = df['Defense']\n",
        "# Dot notation\n",
        "#defense = df.Defense\n",
        "\n",
        "# Display the results\n",
        "print(defense)"
      ],
      "metadata": {
        "colab": {
          "base_uri": "https://localhost:8080/"
        },
        "id": "LYWpGtx81xmr",
        "outputId": "089814ca-f2af-4598-f2a5-e19cadf61200"
      },
      "execution_count": 10,
      "outputs": [
        {
          "output_type": "stream",
          "name": "stdout",
          "text": [
            "0       49\n",
            "1       63\n",
            "2       83\n",
            "3      123\n",
            "4       43\n",
            "      ... \n",
            "795    150\n",
            "796    110\n",
            "797     60\n",
            "798     60\n",
            "799    120\n",
            "Name: Defense, Length: 800, dtype: int64\n"
          ]
        }
      ]
    },
    {
      "cell_type": "markdown",
      "source": [
        "Playing with data comparison & exploring dataset"
      ],
      "metadata": {
        "id": "hApwoQIY1fJs"
      }
    },
    {
      "cell_type": "code",
      "source": [
        "# Select the pokemons where Defense is greater than 1002\n",
        "greater_than_100 = df[df.Defense > 100]\n",
        "print(greater_than_100)\n"
      ],
      "metadata": {
        "colab": {
          "base_uri": "https://localhost:8080/"
        },
        "id": "B8YEsw8p2ygK",
        "outputId": "cb4d3a85-5dfa-4755-f7b8-2ba90a306e3a"
      },
      "execution_count": 16,
      "outputs": [
        {
          "output_type": "stream",
          "name": "stdout",
          "text": [
            "       #                       Name  Type 1  Type 2  Total   HP  Attack  \\\n",
            "3      3      VenusaurMega Venusaur   Grass  Poison    625   80     100   \n",
            "7      6  CharizardMega Charizard X    Fire  Dragon    634   78     130   \n",
            "12     9    BlastoiseMega Blastoise   Water     NaN    630   79     103   \n",
            "33    28                  Sandslash  Ground     NaN    450   75     100   \n",
            "81    75                   Graveler    Rock  Ground    390   55      95   \n",
            "..   ...                        ...     ...     ...    ...  ...     ...   \n",
            "789  713                    Avalugg     Ice     NaN    514   95     117   \n",
            "794  718           Zygarde50% Forme  Dragon  Ground    600  108     100   \n",
            "795  719                    Diancie    Rock   Fairy    600   50     100   \n",
            "796  719        DiancieMega Diancie    Rock   Fairy    700   50     160   \n",
            "799  721                  Volcanion    Fire   Water    600   80     110   \n",
            "\n",
            "     Defense  Sp. Atk  Sp. Def  Speed  Generation  Legendary  \n",
            "3        123      122      120     80           1      False  \n",
            "7        111      130       85    100           1      False  \n",
            "12       120      135      115     78           1      False  \n",
            "33       110       45       55     65           1      False  \n",
            "81       115       45       45     35           1      False  \n",
            "..       ...      ...      ...    ...         ...        ...  \n",
            "789      184       44       46     28           6      False  \n",
            "794      121       81       95     95           6       True  \n",
            "795      150      100      150     50           6       True  \n",
            "796      110      160      110    110           6       True  \n",
            "799      120      130       90     70           6       True  \n",
            "\n",
            "[123 rows x 13 columns]\n"
          ]
        }
      ]
    },
    {
      "cell_type": "code",
      "source": [
        "# Select the pokemons whose Type is equal to Fire\n",
        "pokemon_fire = df[df['Type 1'] == 'Fire'].head(5)\n",
        "print(pokemon_fire)\n"
      ],
      "metadata": {
        "colab": {
          "base_uri": "https://localhost:8080/"
        },
        "id": "-6zGCNV12yCk",
        "outputId": "7cadd71e-7d2f-469f-9842-156f5a10a2be"
      },
      "execution_count": 15,
      "outputs": [
        {
          "output_type": "stream",
          "name": "stdout",
          "text": [
            "   #                       Name Type 1  Type 2  Total  HP  Attack  Defense  \\\n",
            "4  4                 Charmander   Fire     NaN    309  39      52       43   \n",
            "5  5                 Charmeleon   Fire     NaN    405  58      64       58   \n",
            "6  6                  Charizard   Fire  Flying    534  78      84       78   \n",
            "7  6  CharizardMega Charizard X   Fire  Dragon    634  78     130      111   \n",
            "8  6  CharizardMega Charizard Y   Fire  Flying    634  78     104       78   \n",
            "\n",
            "   Sp. Atk  Sp. Def  Speed  Generation  Legendary  \n",
            "4       60       50     65           1      False  \n",
            "5       80       65     80           1      False  \n",
            "6      109       85    100           1      False  \n",
            "7      130       85    100           1      False  \n",
            "8      159      115    100           1      False  \n"
          ]
        }
      ]
    },
    {
      "cell_type": "code",
      "source": [
        "# Select all data for pokemons whose Type 2 is not equal to Poison\n",
        "not_poison = df[df['Type 2'] != 'Poison']\n",
        "print(not_poison)"
      ],
      "metadata": {
        "id": "SAkODqrP3OEw",
        "colab": {
          "base_uri": "https://localhost:8080/"
        },
        "outputId": "456009f2-1f31-430d-a56f-1177c96bc12e"
      },
      "execution_count": 13,
      "outputs": [
        {
          "output_type": "stream",
          "name": "stdout",
          "text": [
            "       #                       Name   Type 1  Type 2  Total  HP  Attack  \\\n",
            "4      4                 Charmander     Fire     NaN    309  39      52   \n",
            "5      5                 Charmeleon     Fire     NaN    405  58      64   \n",
            "6      6                  Charizard     Fire  Flying    534  78      84   \n",
            "7      6  CharizardMega Charizard X     Fire  Dragon    634  78     130   \n",
            "8      6  CharizardMega Charizard Y     Fire  Flying    634  78     104   \n",
            "..   ...                        ...      ...     ...    ...  ..     ...   \n",
            "795  719                    Diancie     Rock   Fairy    600  50     100   \n",
            "796  719        DiancieMega Diancie     Rock   Fairy    700  50     160   \n",
            "797  720        HoopaHoopa Confined  Psychic   Ghost    600  80     110   \n",
            "798  720         HoopaHoopa Unbound  Psychic    Dark    680  80     160   \n",
            "799  721                  Volcanion     Fire   Water    600  80     110   \n",
            "\n",
            "     Defense  Sp. Atk  Sp. Def  Speed  Generation  Legendary  \n",
            "4         43       60       50     65           1      False  \n",
            "5         58       80       65     80           1      False  \n",
            "6         78      109       85    100           1      False  \n",
            "7        111      130       85    100           1      False  \n",
            "8         78      159      115    100           1      False  \n",
            "..       ...      ...      ...    ...         ...        ...  \n",
            "795      150      100      150     50           6       True  \n",
            "796      110      160      110    110           6       True  \n",
            "797       60      150      130     70           6       True  \n",
            "798       60      170      130     80           6       True  \n",
            "799      120      130       90     70           6       True  \n",
            "\n",
            "[766 rows x 13 columns]\n"
          ]
        }
      ]
    },
    {
      "cell_type": "markdown",
      "source": [
        "# Data Visualization"
      ],
      "metadata": {
        "id": "PqyizuD_3ZbL"
      }
    },
    {
      "cell_type": "code",
      "source": [
        "from matplotlib import pyplot as plt\n",
        "#View all styles by typing print(plt.style.available) in the console.\n",
        "plt.style.use('ggplot')"
      ],
      "metadata": {
        "id": "ku77l3ne3cMV"
      },
      "execution_count": 26,
      "outputs": []
    },
    {
      "cell_type": "markdown",
      "source": [
        "### Scatter plot"
      ],
      "metadata": {
        "id": "hka9hFav4Bbp"
      }
    },
    {
      "cell_type": "code",
      "source": [
        "# Create a scatter plot\n",
        "plt.scatter(df.Defense, df.Attack,\n",
        "           color='red',\n",
        "           marker='s',\n",
        "           alpha=0.3)\n",
        "\n",
        "# Add labels\n",
        "plt.title('Correlation between Defense stats and Attack stats')\n",
        "plt.ylabel('Attack')\n",
        "plt.xlabel('Defense')\n",
        "\n",
        "# Definition of tick_val and tick_lab\n",
        "tick_val = [0, 50, 100, 150, 200, 250]\n",
        "tick_lab = ['0', '50', '100', '150', '200', '250']\n",
        "\n",
        "# Adapt the ticks on the x-axis\n",
        "plt.xticks(tick_val, tick_lab)\n",
        "plt.yticks(tick_val, tick_lab)\n",
        "\n",
        "# Display the plot\n",
        "plt.show()"
      ],
      "metadata": {
        "id": "osqo-kn53cl2",
        "colab": {
          "base_uri": "https://localhost:8080/",
          "height": 472
        },
        "outputId": "c7b2ef27-a7e1-40e9-e7ba-54f538ddaecd"
      },
      "execution_count": 71,
      "outputs": [
        {
          "output_type": "display_data",
          "data": {
            "text/plain": [
              "<Figure size 640x480 with 1 Axes>"
            ],
            "image/png": "[encoded data removed]"
          },
          "metadata": {}
        }
      ]
    },
    {
      "cell_type": "markdown",
      "source": [
        "### Bar plot"
      ],
      "metadata": {
        "id": "j0HYF0LzAOLV"
      }
    },
    {
      "cell_type": "code",
      "source": [
        "import pandas as pd\n"
      ],
      "metadata": {
        "id": "erC3SHpUAupe"
      },
      "execution_count": 55,
      "outputs": []
    },
    {
      "cell_type": "code",
      "source": [
        "# Create a bar plot from the DataFrame hours\n",
        "df['Type 1'].value_counts(sort = True).plot(kind='barh')"
      ],
      "metadata": {
        "colab": {
          "base_uri": "https://localhost:8080/",
          "height": 457
        },
        "id": "FK60HWi5-XlO",
        "outputId": "c7f6adfb-038e-4408-fc94-0ce38caf1885"
      },
      "execution_count": 61,
      "outputs": [
        {
          "output_type": "execute_result",
          "data": {
            "text/plain": [
              "<matplotlib.axes._subplots.AxesSubplot at 0x7fd59982f8e0>"
            ]
          },
          "metadata": {},
          "execution_count": 61
        },
        {
          "output_type": "display_data",
          "data": {
            "text/plain": [
              "<Figure size 640x480 with 1 Axes>"
            ],
            "image/png": "[encoded data removed]"
          },
          "metadata": {}
        }
      ]
    },
    {
      "cell_type": "markdown",
      "source": [
        "### Histogram"
      ],
      "metadata": {
        "id": "t9DJyy4-82kg"
      }
    },
    {
      "cell_type": "code",
      "source": [
        "# Create a histogram of the column weight from the DataFrame puppies\n",
        "plt.hist(df['Sp. Atk'], bins=50, \n",
        "         range=(0, 200), # start, end\n",
        "         density=True) # normalize to 1\n",
        "\n",
        "# Add labels\n",
        "plt.xlabel('Special Attack')\n",
        "plt.ylabel('Number of Pokemons')\n",
        "plt.title('Distribution of Special Attack points among all pokemon population')\n",
        "\n",
        "# Display\n",
        "plt.show()\n",
        "plt.clf()"
      ],
      "metadata": {
        "id": "xC8ZUy4V9xBt",
        "colab": {
          "base_uri": "https://localhost:8080/",
          "height": 489
        },
        "outputId": "3b2c21b3-2fdb-4ca1-a004-f26d53db9ba7"
      },
      "execution_count": 70,
      "outputs": [
        {
          "output_type": "display_data",
          "data": {
            "text/plain": [
              "<Figure size 640x480 with 1 Axes>"
            ],
            "image/png": "[encoded data removed]"
          },
          "metadata": {}
        },
        {
          "output_type": "display_data",
          "data": {
            "text/plain": [
              "<Figure size 640x480 with 0 Axes>"
            ]
          },
          "metadata": {}
        }
      ]
    },
    {
      "cell_type": "markdown",
      "source": [
        "# Statistics"
      ],
      "metadata": {
        "id": "kcBMTsw5AHiN"
      }
    },
    {
      "cell_type": "code",
      "metadata": {
        "id": "xDu-dPx3YxwC",
        "colab": {
          "base_uri": "https://localhost:8080/"
        },
        "outputId": "5293fc03-d067-40b2-e76e-7397be8fbbba"
      },
      "source": [
        "df.isnull().sum() #386 NA in Type 2 column"
      ],
      "execution_count": 83,
      "outputs": [
        {
          "output_type": "execute_result",
          "data": {
            "text/plain": [
              "#               0\n",
              "Name            0\n",
              "Type 1          0\n",
              "Type 2        386\n",
              "Total           0\n",
              "HP              0\n",
              "Attack          0\n",
              "Defense         0\n",
              "Sp. Atk         0\n",
              "Sp. Def         0\n",
              "Speed           0\n",
              "Generation      0\n",
              "Legendary       0\n",
              "dtype: int64"
            ]
          },
          "metadata": {},
          "execution_count": 83
        }
      ]
    },
    {
      "cell_type": "code",
      "metadata": {
        "id": "72veYyDlkVDO"
      },
      "source": [
        "df.dropna(inplace = True)"
      ],
      "execution_count": 84,
      "outputs": []
    },
    {
      "cell_type": "markdown",
      "source": [
        "To change datatypes"
      ],
      "metadata": {
        "id": "XlyNuBaEEtyM"
      }
    },
    {
      "cell_type": "code",
      "metadata": {
        "id": "B7N-RW6P5rYu"
      },
      "source": [
        "df.var1 = df.var1.astype(object)\n",
        "df.var2 = pd.to_numeric(df.var2, errors='coerce') #if ‘coerce’, then invalid parsing will be set as NaN."
      ],
      "execution_count": null,
      "outputs": []
    },
    {
      "cell_type": "markdown",
      "metadata": {
        "id": "5RO39ROcmq4U"
      },
      "source": [
        "# Correlation & plot\n",
        "\n"
      ]
    },
    {
      "cell_type": "code",
      "metadata": {
        "id": "zslG2DPJlzPr",
        "colab": {
          "base_uri": "https://localhost:8080/",
          "height": 363
        },
        "outputId": "335395c4-a313-44e4-baab-56c334f648a3"
      },
      "source": [
        "df.corr()"
      ],
      "execution_count": 85,
      "outputs": [
        {
          "output_type": "execute_result",
          "data": {
            "text/plain": [
              "                   #     Total        HP    Attack   Defense   Sp. Atk  \\\n",
              "#           1.000000  0.128957  0.109955  0.105918  0.090547  0.065748   \n",
              "Total       0.128957  1.000000  0.669066  0.754465  0.598596  0.746982   \n",
              "HP          0.109955  0.669066  1.000000  0.518707  0.248920  0.456355   \n",
              "Attack      0.105918  0.754465  0.518707  1.000000  0.401001  0.408570   \n",
              "Defense     0.090547  0.598596  0.248920  0.401001  1.000000  0.196778   \n",
              "Sp. Atk     0.065748  0.746982  0.456355  0.408570  0.196778  1.000000   \n",
              "Sp. Def     0.084785  0.691391  0.328665  0.257964  0.528286  0.480027   \n",
              "Speed       0.068507  0.561656  0.271853  0.403546 -0.030993  0.435450   \n",
              "Generation  0.983625  0.063254  0.069728  0.058433  0.040160  0.018942   \n",
              "Legendary   0.201582  0.511054  0.368597  0.359763  0.199898  0.474865   \n",
              "\n",
              "             Sp. Def     Speed  Generation  Legendary  \n",
              "#           0.084785  0.068507    0.983625   0.201582  \n",
              "Total       0.691391  0.561656    0.063254   0.511054  \n",
              "HP          0.328665  0.271853    0.069728   0.368597  \n",
              "Attack      0.257964  0.403546    0.058433   0.359763  \n",
              "Defense     0.528286 -0.030993    0.040160   0.199898  \n",
              "Sp. Atk     0.480027  0.435450    0.018942   0.474865  \n",
              "Sp. Def     1.000000  0.208259    0.036356   0.354490  \n",
              "Speed       0.208259  1.000000    0.039029   0.305780  \n",
              "Generation  0.036356  0.039029    1.000000   0.130808  \n",
              "Legendary   0.354490  0.305780    0.130808   1.000000  "
            ],
            "text/html": [
              "\n",
              "  <div id=\"df-2d9680f9-0350-47e8-8dea-31273fd1fbd5\">\n",
              "    <div class=\"colab-df-container\">\n",
              "      <div>\n",
              "<style scoped>\n",
              "    .dataframe tbody tr th:only-of-type {\n",
              "        vertical-align: middle;\n",
              "    }\n",
              "\n",
              "    .dataframe tbody tr th {\n",
              "        vertical-align: top;\n",
              "    }\n",
              "\n",
              "    .dataframe thead th {\n",
              "        text-align: right;\n",
              "    }\n",
              "</style>\n",
              "<table border=\"1\" class=\"dataframe\">\n",
              "  <thead>\n",
              "    <tr style=\"text-align: right;\">\n",
              "      <th></th>\n",
              "      <th>#</th>\n",
              "      <th>Total</th>\n",
              "      <th>HP</th>\n",
              "      <th>Attack</th>\n",
              "      <th>Defense</th>\n",
              "      <th>Sp. Atk</th>\n",
              "      <th>Sp. Def</th>\n",
              "      <th>Speed</th>\n",
              "      <th>Generation</th>\n",
              "      <th>Legendary</th>\n",
              "    </tr>\n",
              "  </thead>\n",
              "  <tbody>\n",
              "    <tr>\n",
              "      <th>#</th>\n",
              "      <td>1.000000</td>\n",
              "      <td>0.128957</td>\n",
              "      <td>0.109955</td>\n",
              "      <td>0.105918</td>\n",
              "      <td>0.090547</td>\n",
              "      <td>0.065748</td>\n",
              "      <td>0.084785</td>\n",
              "      <td>0.068507</td>\n",
              "      <td>0.983625</td>\n",
              "      <td>0.201582</td>\n",
              "    </tr>\n",
              "    <tr>\n",
              "      <th>Total</th>\n",
              "      <td>0.128957</td>\n",
              "      <td>1.000000</td>\n",
              "      <td>0.669066</td>\n",
              "      <td>0.754465</td>\n",
              "      <td>0.598596</td>\n",
              "      <td>0.746982</td>\n",
              "      <td>0.691391</td>\n",
              "      <td>0.561656</td>\n",
              "      <td>0.063254</td>\n",
              "      <td>0.511054</td>\n",
              "    </tr>\n",
              "    <tr>\n",
              "      <th>HP</th>\n",
              "      <td>0.109955</td>\n",
              "      <td>0.669066</td>\n",
              "      <td>1.000000</td>\n",
              "      <td>0.518707</td>\n",
              "      <td>0.248920</td>\n",
              "      <td>0.456355</td>\n",
              "      <td>0.328665</td>\n",
              "      <td>0.271853</td>\n",
              "      <td>0.069728</td>\n",
              "      <td>0.368597</td>\n",
              "    </tr>\n",
              "    <tr>\n",
              "      <th>Attack</th>\n",
              "      <td>0.105918</td>\n",
              "      <td>0.754465</td>\n",
              "      <td>0.518707</td>\n",
              "      <td>1.000000</td>\n",
              "      <td>0.401001</td>\n",
              "      <td>0.408570</td>\n",
              "      <td>0.257964</td>\n",
              "      <td>0.403546</td>\n",
              "      <td>0.058433</td>\n",
              "      <td>0.359763</td>\n",
              "    </tr>\n",
              "    <tr>\n",
              "      <th>Defense</th>\n",
              "      <td>0.090547</td>\n",
              "      <td>0.598596</td>\n",
              "      <td>0.248920</td>\n",
              "      <td>0.401001</td>\n",
              "      <td>1.000000</td>\n",
              "      <td>0.196778</td>\n",
              "      <td>0.528286</td>\n",
              "      <td>-0.030993</td>\n",
              "      <td>0.040160</td>\n",
              "      <td>0.199898</td>\n",
              "    </tr>\n",
              "    <tr>\n",
              "      <th>Sp. Atk</th>\n",
              "      <td>0.065748</td>\n",
              "      <td>0.746982</td>\n",
              "      <td>0.456355</td>\n",
              "      <td>0.408570</td>\n",
              "      <td>0.196778</td>\n",
              "      <td>1.000000</td>\n",
              "      <td>0.480027</td>\n",
              "      <td>0.435450</td>\n",
              "      <td>0.018942</td>\n",
              "      <td>0.474865</td>\n",
              "    </tr>\n",
              "    <tr>\n",
              "      <th>Sp. Def</th>\n",
              "      <td>0.084785</td>\n",
              "      <td>0.691391</td>\n",
              "      <td>0.328665</td>\n",
              "      <td>0.257964</td>\n",
              "      <td>0.528286</td>\n",
              "      <td>0.480027</td>\n",
              "      <td>1.000000</td>\n",
              "      <td>0.208259</td>\n",
              "      <td>0.036356</td>\n",
              "      <td>0.354490</td>\n",
              "    </tr>\n",
              "    <tr>\n",
              "      <th>Speed</th>\n",
              "      <td>0.068507</td>\n",
              "      <td>0.561656</td>\n",
              "      <td>0.271853</td>\n",
              "      <td>0.403546</td>\n",
              "      <td>-0.030993</td>\n",
              "      <td>0.435450</td>\n",
              "      <td>0.208259</td>\n",
              "      <td>1.000000</td>\n",
              "      <td>0.039029</td>\n",
              "      <td>0.305780</td>\n",
              "    </tr>\n",
              "    <tr>\n",
              "      <th>Generation</th>\n",
              "      <td>0.983625</td>\n",
              "      <td>0.063254</td>\n",
              "      <td>0.069728</td>\n",
              "      <td>0.058433</td>\n",
              "      <td>0.040160</td>\n",
              "      <td>0.018942</td>\n",
              "      <td>0.036356</td>\n",
              "      <td>0.039029</td>\n",
              "      <td>1.000000</td>\n",
              "      <td>0.130808</td>\n",
              "    </tr>\n",
              "    <tr>\n",
              "      <th>Legendary</th>\n",
              "      <td>0.201582</td>\n",
              "      <td>0.511054</td>\n",
              "      <td>0.368597</td>\n",
              "      <td>0.359763</td>\n",
              "      <td>0.199898</td>\n",
              "      <td>0.474865</td>\n",
              "      <td>0.354490</td>\n",
              "      <td>0.305780</td>\n",
              "      <td>0.130808</td>\n",
              "      <td>1.000000</td>\n",
              "    </tr>\n",
              "  </tbody>\n",
              "</table>\n",
              "</div>\n",
              "      <button class=\"colab-df-convert\" onclick=\"convertToInteractive('df-2d9680f9-0350-47e8-8dea-31273fd1fbd5')\"\n",
              "              title=\"Convert this dataframe to an interactive table.\"\n",
              "              style=\"display:none;\">\n",
              "        \n",
              "  <svg xmlns=\"http://www.w3.org/2000/svg\" height=\"24px\"viewBox=\"0 0 24 24\"\n",
              "       width=\"24px\">\n",
              "    <path d=\"M0 0h24v24H0V0z\" fill=\"none\"/>\n",
              "    <path d=\"M18.56 5.44l.94 2.06.94-2.06 2.06-.94-2.06-.94-.94-2.06-.94 2.06-2.06.94zm-11 1L8.5 8.5l.94-2.06 2.06-.94-2.06-.94L8.5 2.5l-.94 2.06-2.06.94zm10 10l.94 2.06.94-2.06 2.06-.94-2.06-.94-.94-2.06-.94 2.06-2.06.94z\"/><path d=\"M17.41 7.96l-1.37-1.37c-.4-.4-.92-.59-1.43-.59-.52 0-1.04.2-1.43.59L10.3 9.45l-7.72 7.72c-.78.78-.78 2.05 0 2.83L4 21.41c.39.39.9.59 1.41.59.51 0 1.02-.2 1.41-.59l7.78-7.78 2.81-2.81c.8-.78.8-2.07 0-2.86zM5.41 20L4 18.59l7.72-7.72 1.47 1.35L5.41 20z\"/>\n",
              "  </svg>\n",
              "      </button>\n",
              "      \n",
              "  <style>\n",
              "    .colab-df-container {\n",
              "      display:flex;\n",
              "      flex-wrap:wrap;\n",
              "      gap: 12px;\n",
              "    }\n",
              "\n",
              "    .colab-df-convert {\n",
              "      background-color: #E8F0FE;\n",
              "      border: none;\n",
              "      border-radius: 50%;\n",
              "      cursor: pointer;\n",
              "      display: none;\n",
              "      fill: #1967D2;\n",
              "      height: 32px;\n",
              "      padding: 0 0 0 0;\n",
              "      width: 32px;\n",
              "    }\n",
              "\n",
              "    .colab-df-convert:hover {\n",
              "      background-color: #E2EBFA;\n",
              "      box-shadow: 0px 1px 2px rgba(60, 64, 67, 0.3), 0px 1px 3px 1px rgba(60, 64, 67, 0.15);\n",
              "      fill: #174EA6;\n",
              "    }\n",
              "\n",
              "    [theme=dark] .colab-df-convert {\n",
              "      background-color: #3B4455;\n",
              "      fill: #D2E3FC;\n",
              "    }\n",
              "\n",
              "    [theme=dark] .colab-df-convert:hover {\n",
              "      background-color: #434B5C;\n",
              "      box-shadow: 0px 1px 3px 1px rgba(0, 0, 0, 0.15);\n",
              "      filter: drop-shadow(0px 1px 2px rgba(0, 0, 0, 0.3));\n",
              "      fill: #FFFFFF;\n",
              "    }\n",
              "  </style>\n",
              "\n",
              "      <script>\n",
              "        const buttonEl =\n",
              "          document.querySelector('#df-2d9680f9-0350-47e8-8dea-31273fd1fbd5 button.colab-df-convert');\n",
              "        buttonEl.style.display =\n",
              "          google.colab.kernel.accessAllowed ? 'block' : 'none';\n",
              "\n",
              "        async function convertToInteractive(key) {\n",
              "          const element = document.querySelector('#df-2d9680f9-0350-47e8-8dea-31273fd1fbd5');\n",
              "          const dataTable =\n",
              "            await google.colab.kernel.invokeFunction('convertToInteractive',\n",
              "                                                     [key], {});\n",
              "          if (!dataTable) return;\n",
              "\n",
              "          const docLinkHtml = 'Like what you see? Visit the ' +\n",
              "            '<a target=\"_blank\" href=https://colab.research.google.com/notebooks/data_table.ipynb>data table notebook</a>'\n",
              "            + ' to learn more about interactive tables.';\n",
              "          element.innerHTML = '';\n",
              "          dataTable['output_type'] = 'display_data';\n",
              "          await google.colab.output.renderOutput(dataTable, element);\n",
              "          const docLink = document.createElement('div');\n",
              "          docLink.innerHTML = docLinkHtml;\n",
              "          element.appendChild(docLink);\n",
              "        }\n",
              "      </script>\n",
              "    </div>\n",
              "  </div>\n",
              "  "
            ]
          },
          "metadata": {},
          "execution_count": 85
        }
      ]
    },
    {
      "cell_type": "code",
      "metadata": {
        "id": "JMShgIr2mNXA",
        "colab": {
          "base_uri": "https://localhost:8080/"
        },
        "outputId": "ce60845c-3349-4794-9aea-4f22d5820189"
      },
      "source": [],
      "execution_count": 87,
      "outputs": [
        {
          "output_type": "execute_result",
          "data": {
            "text/plain": [
              "Int64Index([  0,   1,   2,   3,   6,   7,   8,  15,  16,  17,\n",
              "            ...\n",
              "            787, 790, 791, 793, 794, 795, 796, 797, 798, 799],\n",
              "           dtype='int64', length=414)"
            ]
          },
          "metadata": {},
          "execution_count": 87
        }
      ]
    },
    {
      "cell_type": "code",
      "metadata": {
        "id": "9dtiUDVHziAT",
        "colab": {
          "base_uri": "https://localhost:8080/",
          "height": 505
        },
        "outputId": "d500f4d4-a20a-42b3-c3f2-c23e9a617098"
      },
      "source": [
        "import seaborn as sns\n",
        "\n",
        "df_corr = df.corr()\n",
        "df_corr_top = df_corr.index\n",
        "sns.heatmap(df[df_corr_top].corr(), annot=True)"
      ],
      "execution_count": 88,
      "outputs": [
        {
          "output_type": "execute_result",
          "data": {
            "text/plain": [
              "<matplotlib.axes._subplots.AxesSubplot at 0x7fd59886c460>"
            ]
          },
          "metadata": {},
          "execution_count": 88
        },
        {
          "output_type": "display_data",
          "data": {
            "text/plain": [
              "<Figure size 640x480 with 2 Axes>"
            ],
            "image/png": "[encoded data removed]"
          },
          "metadata": {}
        }
      ]
    },
    {
      "cell_type": "code",
      "metadata": {
        "id": "ev97rZHOh06R",
        "colab": {
          "base_uri": "https://localhost:8080/"
        },
        "outputId": "d31edc55-a921-441f-a67d-cb272f5bb52e"
      },
      "source": [
        "# Compute correlation matrix: corr_mat\n",
        "def pearson_r(x, y):\n",
        "    \"\"\"Compute Pearson correlation coefficient between two arrays.\"\"\"\n",
        "    corr_mat = np.corrcoef(x, y)\n",
        "\n",
        "    # Return entry [0,1]\n",
        "    return corr_mat[0,1]\n",
        "\n",
        "# Compute Pearson correlation coefficient \n",
        "df_att = pearson_r(df.Defense, df.Attack)\n",
        "\n",
        "# Print the result\n",
        "print(df_att)"
      ],
      "execution_count": 89,
      "outputs": [
        {
          "output_type": "stream",
          "name": "stdout",
          "text": [
            "0.40100101240740643\n"
          ]
        }
      ]
    },
    {
      "cell_type": "code",
      "metadata": {
        "id": "JHqkBGzxnq9x",
        "colab": {
          "base_uri": "https://localhost:8080/",
          "height": 165
        },
        "outputId": "f679b803-451a-4872-9879-5db1bbe1890e"
      },
      "source": [
        "#scipy.stats.pearsonr()"
      ],
      "execution_count": 92,
      "outputs": [
        {
          "output_type": "error",
          "ename": "TypeError",
          "evalue": "ignored",
          "traceback": [
            "\u001b[0;31m---------------------------------------------------------------------------\u001b[0m",
            "\u001b[0;31mTypeError\u001b[0m                                 Traceback (most recent call last)",
            "\u001b[0;32m<ipython-input-92-6220ad2eb43d>\u001b[0m in \u001b[0;36m<module>\u001b[0;34m\u001b[0m\n\u001b[0;32m----> 1\u001b[0;31m \u001b[0mscipy\u001b[0m\u001b[0;34m.\u001b[0m\u001b[0mstats\u001b[0m\u001b[0;34m.\u001b[0m\u001b[0mpearsonr\u001b[0m\u001b[0;34m(\u001b[0m\u001b[0;34m)\u001b[0m\u001b[0;34m\u001b[0m\u001b[0;34m\u001b[0m\u001b[0m\n\u001b[0m",
            "\u001b[0;31mTypeError\u001b[0m: pearsonr() missing 2 required positional arguments: 'x' and 'y'"
          ]
        }
      ]
    },
    {
      "cell_type": "markdown",
      "metadata": {
        "id": "R1wLjZPp0rJU"
      },
      "source": [
        "# Chi-square"
      ]
    },
    {
      "cell_type": "code",
      "metadata": {
        "id": "JAsieLKJd4Bg",
        "colab": {
          "base_uri": "https://localhost:8080/",
          "height": 703
        },
        "outputId": "0710cdb1-ab6f-4a65-9153-643983cb029e"
      },
      "source": [
        "# Create a table of cross-tabulations\n",
        "table = pd.crosstab(df['Type 2'],df['Legendary'])\n",
        "print(table)\n",
        "\n",
        "# Perform the Fisher exact test\n",
        "#fisher = stats.fisher_exact(table, alternative='two-sided')\n",
        "#print(fisher)\n",
        "\n",
        "# Is the result significant?\n",
        "#alpha = 0.05\n",
        "#if fisher[1] < alpha:\n",
        "    #print(\"Proportions  differ significantly\")\n",
        "#else:\n",
        "    #print(\"No significant difference in proportions found\")"
      ],
      "execution_count": 97,
      "outputs": [
        {
          "output_type": "stream",
          "name": "stdout",
          "text": [
            "Legendary  False  True\n",
            "Type 2                \n",
            "Bug            3     0\n",
            "Dark          19     1\n",
            "Dragon        14     4\n",
            "Electric       5     1\n",
            "Fairy         21     2\n",
            "Fighting      22     4\n",
            "Fire           9     3\n",
            "Flying        84    13\n",
            "Ghost         13     1\n",
            "Grass         25     0\n",
            "Ground        34     1\n",
            "Ice           11     3\n",
            "Normal         4     0\n",
            "Poison        34     0\n",
            "Psychic       28     5\n",
            "Rock          14     0\n",
            "Steel         21     1\n",
            "Water         13     1\n"
          ]
        },
        {
          "output_type": "error",
          "ename": "ValueError",
          "evalue": "ignored",
          "traceback": [
            "\u001b[0;31m---------------------------------------------------------------------------\u001b[0m",
            "\u001b[0;31mValueError\u001b[0m                                Traceback (most recent call last)",
            "\u001b[0;32m<ipython-input-97-ee039d613b7b>\u001b[0m in \u001b[0;36m<module>\u001b[0;34m\u001b[0m\n\u001b[1;32m      5\u001b[0m \u001b[0;34m\u001b[0m\u001b[0m\n\u001b[1;32m      6\u001b[0m \u001b[0;31m# Perform the Fisher exact test\u001b[0m\u001b[0;34m\u001b[0m\u001b[0;34m\u001b[0m\u001b[0;34m\u001b[0m\u001b[0m\n\u001b[0;32m----> 7\u001b[0;31m \u001b[0mfisher\u001b[0m \u001b[0;34m=\u001b[0m \u001b[0mstats\u001b[0m\u001b[0;34m.\u001b[0m\u001b[0mfisher_exact\u001b[0m\u001b[0;34m(\u001b[0m\u001b[0mtable\u001b[0m\u001b[0;34m)\u001b[0m\u001b[0;34m\u001b[0m\u001b[0;34m\u001b[0m\u001b[0m\n\u001b[0m\u001b[1;32m      8\u001b[0m \u001b[0mprint\u001b[0m\u001b[0;34m(\u001b[0m\u001b[0mfisher\u001b[0m\u001b[0;34m)\u001b[0m\u001b[0;34m\u001b[0m\u001b[0;34m\u001b[0m\u001b[0m\n\u001b[1;32m      9\u001b[0m \u001b[0;34m\u001b[0m\u001b[0m\n",
            "\u001b[0;32m/usr/local/lib/python3.8/dist-packages/scipy/stats/stats.py\u001b[0m in \u001b[0;36mfisher_exact\u001b[0;34m(table, alternative)\u001b[0m\n\u001b[1;32m   4231\u001b[0m     \u001b[0mc\u001b[0m \u001b[0;34m=\u001b[0m \u001b[0mnp\u001b[0m\u001b[0;34m.\u001b[0m\u001b[0masarray\u001b[0m\u001b[0;34m(\u001b[0m\u001b[0mtable\u001b[0m\u001b[0;34m,\u001b[0m \u001b[0mdtype\u001b[0m\u001b[0;34m=\u001b[0m\u001b[0mnp\u001b[0m\u001b[0;34m.\u001b[0m\u001b[0mint64\u001b[0m\u001b[0;34m)\u001b[0m\u001b[0;34m\u001b[0m\u001b[0;34m\u001b[0m\u001b[0m\n\u001b[1;32m   4232\u001b[0m     \u001b[0;32mif\u001b[0m \u001b[0;32mnot\u001b[0m \u001b[0mc\u001b[0m\u001b[0;34m.\u001b[0m\u001b[0mshape\u001b[0m \u001b[0;34m==\u001b[0m \u001b[0;34m(\u001b[0m\u001b[0;36m2\u001b[0m\u001b[0;34m,\u001b[0m \u001b[0;36m2\u001b[0m\u001b[0;34m)\u001b[0m\u001b[0;34m:\u001b[0m\u001b[0;34m\u001b[0m\u001b[0;34m\u001b[0m\u001b[0m\n\u001b[0;32m-> 4233\u001b[0;31m         \u001b[0;32mraise\u001b[0m \u001b[0mValueError\u001b[0m\u001b[0;34m(\u001b[0m\u001b[0;34m\"The input `table` must be of shape (2, 2).\"\u001b[0m\u001b[0;34m)\u001b[0m\u001b[0;34m\u001b[0m\u001b[0;34m\u001b[0m\u001b[0m\n\u001b[0m\u001b[1;32m   4234\u001b[0m \u001b[0;34m\u001b[0m\u001b[0m\n\u001b[1;32m   4235\u001b[0m     \u001b[0;32mif\u001b[0m \u001b[0mnp\u001b[0m\u001b[0;34m.\u001b[0m\u001b[0many\u001b[0m\u001b[0;34m(\u001b[0m\u001b[0mc\u001b[0m \u001b[0;34m<\u001b[0m \u001b[0;36m0\u001b[0m\u001b[0;34m)\u001b[0m\u001b[0;34m:\u001b[0m\u001b[0;34m\u001b[0m\u001b[0;34m\u001b[0m\u001b[0m\n",
            "\u001b[0;31mValueError\u001b[0m: The input `table` must be of shape (2, 2)."
          ]
        }
      ]
    },
    {
      "cell_type": "markdown",
      "metadata": {
        "id": "xw0APUzC0zK2"
      },
      "source": [
        "# T-test"
      ]
    },
    {
      "cell_type": "code",
      "metadata": {
        "id": "K2isG_is0u8g",
        "colab": {
          "base_uri": "https://localhost:8080/"
        },
        "outputId": "786b2e9e-d84d-4392-829f-38ffd1624edc"
      },
      "source": [
        "# Create two arrays\n",
        "array1 = df[df['Type 1'] == \"Fire\"].Attack\n",
        "array2 = df[df['Type 1'] == \"Grass\"].Attack\n",
        "\n",
        "# Perform the two-sample t-test\n",
        "t_result= stats.ttest_ind(array1, array2)\n",
        "print(t_result)\n",
        "\n",
        "# Test significance\n",
        "alpha= 0.05\n",
        "if (t_result[1] < alpha):\n",
        "    print(\"Fire pokemons and Grass have different mean values\")\n",
        "else: print(\"No significant difference found\")"
      ],
      "execution_count": 101,
      "outputs": [
        {
          "output_type": "stream",
          "name": "stdout",
          "text": [
            "Ttest_indResult(statistic=2.0023531974190556, pvalue=0.049849720292165445)\n",
            "Fire pokemons and Grass have different mean values\n"
          ]
        }
      ]
    },
    {
      "cell_type": "markdown",
      "metadata": {
        "id": "mxsyq7pBpIbt"
      },
      "source": [
        "One-sample T-test"
      ]
    },
    {
      "cell_type": "code",
      "metadata": {
        "id": "VFpurNUqowes",
        "colab": {
          "base_uri": "https://localhost:8080/"
        },
        "outputId": "2fd425c1-31c3-423c-8b91-28778bb2e78a"
      },
      "source": [
        "Sample_A=[66.1, 69.8,67.7,69.6,71.1]\n",
        "# Perform t-test and print result\n",
        "\n",
        "t_result=stats.ttest_1samp(Sample_A, 65)\n",
        "print(t_result)\n",
        "\n",
        "# Test significance\n",
        "alpha= 0.05\n",
        "if (t_result[1] < alpha):\n",
        "    print(\"mean value of Sample A differs from given value\")\n",
        "else:\n",
        "\tprint(\"No significant difference found\")\n",
        " \n",
        " #this sample isn't significantly different from 65 kg.\n"
      ],
      "execution_count": 102,
      "outputs": [
        {
          "output_type": "stream",
          "name": "stdout",
          "text": [
            "Ttest_1sampResult(statistic=4.397165403622582, pvalue=0.01171701570294137)\n",
            "mean value of Sample A differs from given value\n"
          ]
        }
      ]
    }
  ]
}